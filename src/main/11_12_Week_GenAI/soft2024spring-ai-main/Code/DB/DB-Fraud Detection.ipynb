{
 "cells": [
  {
   "cell_type": "markdown",
   "id": "e271a093",
   "metadata": {},
   "source": [
    "# Fraud Detection"
   ]
  },
  {
   "cell_type": "code",
   "execution_count": null,
   "id": "a09aa024",
   "metadata": {},
   "outputs": [],
   "source": [
    "# Python GDS client\n",
    "!pip install graphdatascience"
   ]
  },
  {
   "cell_type": "code",
   "execution_count": null,
   "id": "fadfa82a",
   "metadata": {},
   "outputs": [],
   "source": [
    "from graphdatascience import GraphDataScience"
   ]
  },
  {
   "cell_type": "code",
   "execution_count": null,
   "id": "da282e92",
   "metadata": {},
   "outputs": [],
   "source": [
    "# convenient graphing tool\n",
    "import networkx as nx"
   ]
  },
  {
   "cell_type": "code",
   "execution_count": null,
   "id": "016ec993",
   "metadata": {},
   "outputs": [],
   "source": [
    "from neo4j import GraphDatabase, RoutingControl, basic_auth"
   ]
  },
  {
   "cell_type": "code",
   "execution_count": null,
   "id": "ab4089b5",
   "metadata": {},
   "outputs": [],
   "source": [
    "import pandas as pd\n",
    "import numpy as np\n",
    "import os"
   ]
  },
  {
   "cell_type": "markdown",
   "id": "24485f3a",
   "metadata": {},
   "source": [
    "## Utilities"
   ]
  },
  {
   "cell_type": "markdown",
   "id": "60c980b2",
   "metadata": {},
   "source": [
    "### Connect to DB"
   ]
  },
  {
   "cell_type": "code",
   "execution_count": null,
   "id": "789b9896",
   "metadata": {},
   "outputs": [],
   "source": [
    "# DB URI and authentication\n",
    "URI = \"bolt://localhost:7687\"\n",
    "AUTH = (\"neo4j\",\"p2p2p2p2\")"
   ]
  },
  {
   "cell_type": "code",
   "execution_count": null,
   "id": "425f14b6",
   "metadata": {},
   "outputs": [],
   "source": [
    "driver = GraphDatabase.driver(URI, auth=AUTH)"
   ]
  },
  {
   "cell_type": "code",
   "execution_count": null,
   "id": "28cbb451",
   "metadata": {},
   "outputs": [],
   "source": [
    "driver.verify_connectivity()"
   ]
  },
  {
   "cell_type": "code",
   "execution_count": null,
   "id": "c553fb58",
   "metadata": {},
   "outputs": [],
   "source": [
    "# template read request\n",
    "def read_query(query, params={}):\n",
    "    with driver.session(database=\"p2p\") as session:\n",
    "        results = session.execute_read(lambda tx: tx.run(query, params).data())       \n",
    "        response = [record.values()[0] for record in results]\n",
    "        return response"
   ]
  },
  {
   "cell_type": "code",
   "execution_count": null,
   "id": "700c791a",
   "metadata": {},
   "outputs": [],
   "source": [
    "# template write request\n",
    "def write_query(query, params={}):\n",
    "    with driver.session(database=\"p2p\") as session:\n",
    "        results = session.execute_write(lambda tx: tx.run(query, params).data())\n",
    "        # response = [record.values()[0] for record in results]\n",
    "        return results"
   ]
  },
  {
   "cell_type": "code",
   "execution_count": null,
   "id": "5c2b8ef2",
   "metadata": {},
   "outputs": [],
   "source": [
    "# template read with GDS into DataFramme\n",
    "def read_gds(query, params=None):\n",
    "    with driver.session(database=\"p2p\") as session:\n",
    "        result = session.run(query, params)\n",
    "        return pd.DataFrame([r.values() for r in result], columns=result.keys())"
   ]
  },
  {
   "cell_type": "markdown",
   "id": "f42ff79e",
   "metadata": {},
   "source": [
    "## Explore Data"
   ]
  },
  {
   "cell_type": "code",
   "execution_count": null,
   "id": "37650fdb",
   "metadata": {},
   "outputs": [],
   "source": [
    "# node counts\n",
    "query = '''\n",
    "    CALL apoc.meta.stats()\n",
    "    YIELD labels\n",
    "    UNWIND keys(labels) AS nodeLabel\n",
    "    RETURN nodeLabel, labels[nodeLabel] AS nodeCount\n",
    "'''"
   ]
  },
  {
   "cell_type": "code",
   "execution_count": null,
   "id": "df9f1671",
   "metadata": {
    "scrolled": true
   },
   "outputs": [],
   "source": [
    "response = read_gds(query)\n",
    "response"
   ]
  },
  {
   "cell_type": "code",
   "execution_count": null,
   "id": "958a1e7b",
   "metadata": {},
   "outputs": [],
   "source": [
    "# relationship counts\n",
    "query = '''\n",
    "    CALL apoc.meta.stats()\n",
    "    YIELD relTypesCount\n",
    "    UNWIND keys(relTypesCount) AS relationshipType\n",
    "    RETURN relationshipType, relTypesCount[relationshipType] AS relationshipCount\n",
    "'''"
   ]
  },
  {
   "cell_type": "code",
   "execution_count": null,
   "id": "c818071b",
   "metadata": {},
   "outputs": [],
   "source": [
    "response = read_gds(query)\n",
    "response"
   ]
  },
  {
   "cell_type": "code",
   "execution_count": 127,
   "id": "a99fc564",
   "metadata": {},
   "outputs": [],
   "source": [
    "query = '''\n",
    "    match (n:User {fraudMoneyTransfer:1})-[P2P]-(c:User) return n, c limit 100\n",
    "    '''"
   ]
  },
  {
   "cell_type": "code",
   "execution_count": 128,
   "id": "771f910e",
   "metadata": {},
   "outputs": [
    {
     "data": {
      "text/html": [
       "<div>\n",
       "<style scoped>\n",
       "    .dataframe tbody tr th:only-of-type {\n",
       "        vertical-align: middle;\n",
       "    }\n",
       "\n",
       "    .dataframe tbody tr th {\n",
       "        vertical-align: top;\n",
       "    }\n",
       "\n",
       "    .dataframe thead th {\n",
       "        text-align: right;\n",
       "    }\n",
       "</style>\n",
       "<table border=\"1\" class=\"dataframe\">\n",
       "  <thead>\n",
       "    <tr style=\"text-align: right;\">\n",
       "      <th></th>\n",
       "      <th>n</th>\n",
       "      <th>c</th>\n",
       "    </tr>\n",
       "  </thead>\n",
       "  <tbody>\n",
       "    <tr>\n",
       "      <th>0</th>\n",
       "      <td>(fraudRisk, p2pReceivedWeightedPageRank, wccId...</td>\n",
       "      <td>(fraudRisk, p2pReceivedWeightedPageRank, fraud...</td>\n",
       "    </tr>\n",
       "    <tr>\n",
       "      <th>1</th>\n",
       "      <td>(fraudRisk, p2pReceivedWeightedPageRank, wccId...</td>\n",
       "      <td>(fraudRisk, p2pReceivedWeightedPageRank, fraud...</td>\n",
       "    </tr>\n",
       "    <tr>\n",
       "      <th>2</th>\n",
       "      <td>(fraudRisk, p2pReceivedWeightedPageRank, wccId...</td>\n",
       "      <td>(fraudRisk, p2pReceivedWeightedPageRank, fraud...</td>\n",
       "    </tr>\n",
       "    <tr>\n",
       "      <th>3</th>\n",
       "      <td>(fraudRisk, p2pReceivedWeightedPageRank, wccId...</td>\n",
       "      <td>(fraudRisk, p2pReceivedWeightedPageRank, fraud...</td>\n",
       "    </tr>\n",
       "    <tr>\n",
       "      <th>4</th>\n",
       "      <td>(fraudRisk, p2pReceivedWeightedPageRank, wccId...</td>\n",
       "      <td>(fraudRisk, p2pReceivedWeightedPageRank, fraud...</td>\n",
       "    </tr>\n",
       "    <tr>\n",
       "      <th>...</th>\n",
       "      <td>...</td>\n",
       "      <td>...</td>\n",
       "    </tr>\n",
       "    <tr>\n",
       "      <th>95</th>\n",
       "      <td>(fraudRisk, p2pReceivedWeightedPageRank, wccId...</td>\n",
       "      <td>(fraudRisk, p2pReceivedWeightedPageRank, fraud...</td>\n",
       "    </tr>\n",
       "    <tr>\n",
       "      <th>96</th>\n",
       "      <td>(fraudRisk, p2pReceivedWeightedPageRank, wccId...</td>\n",
       "      <td>(fraudRisk, p2pReceivedWeightedPageRank, fraud...</td>\n",
       "    </tr>\n",
       "    <tr>\n",
       "      <th>97</th>\n",
       "      <td>(fraudRisk, p2pReceivedWeightedPageRank, wccId...</td>\n",
       "      <td>(fraudRisk, p2pReceivedWeightedPageRank, fraud...</td>\n",
       "    </tr>\n",
       "    <tr>\n",
       "      <th>98</th>\n",
       "      <td>(fraudRisk, p2pReceivedWeightedPageRank, wccId...</td>\n",
       "      <td>(fraudRisk, p2pReceivedWeightedPageRank, fraud...</td>\n",
       "    </tr>\n",
       "    <tr>\n",
       "      <th>99</th>\n",
       "      <td>(fraudRisk, p2pReceivedWeightedPageRank, wccId...</td>\n",
       "      <td>(fraudRisk, p2pReceivedWeightedPageRank, fraud...</td>\n",
       "    </tr>\n",
       "  </tbody>\n",
       "</table>\n",
       "<p>100 rows × 2 columns</p>\n",
       "</div>"
      ],
      "text/plain": [
       "                                                    n  \\\n",
       "0   (fraudRisk, p2pReceivedWeightedPageRank, wccId...   \n",
       "1   (fraudRisk, p2pReceivedWeightedPageRank, wccId...   \n",
       "2   (fraudRisk, p2pReceivedWeightedPageRank, wccId...   \n",
       "3   (fraudRisk, p2pReceivedWeightedPageRank, wccId...   \n",
       "4   (fraudRisk, p2pReceivedWeightedPageRank, wccId...   \n",
       "..                                                ...   \n",
       "95  (fraudRisk, p2pReceivedWeightedPageRank, wccId...   \n",
       "96  (fraudRisk, p2pReceivedWeightedPageRank, wccId...   \n",
       "97  (fraudRisk, p2pReceivedWeightedPageRank, wccId...   \n",
       "98  (fraudRisk, p2pReceivedWeightedPageRank, wccId...   \n",
       "99  (fraudRisk, p2pReceivedWeightedPageRank, wccId...   \n",
       "\n",
       "                                                    c  \n",
       "0   (fraudRisk, p2pReceivedWeightedPageRank, fraud...  \n",
       "1   (fraudRisk, p2pReceivedWeightedPageRank, fraud...  \n",
       "2   (fraudRisk, p2pReceivedWeightedPageRank, fraud...  \n",
       "3   (fraudRisk, p2pReceivedWeightedPageRank, fraud...  \n",
       "4   (fraudRisk, p2pReceivedWeightedPageRank, fraud...  \n",
       "..                                                ...  \n",
       "95  (fraudRisk, p2pReceivedWeightedPageRank, fraud...  \n",
       "96  (fraudRisk, p2pReceivedWeightedPageRank, fraud...  \n",
       "97  (fraudRisk, p2pReceivedWeightedPageRank, fraud...  \n",
       "98  (fraudRisk, p2pReceivedWeightedPageRank, fraud...  \n",
       "99  (fraudRisk, p2pReceivedWeightedPageRank, fraud...  \n",
       "\n",
       "[100 rows x 2 columns]"
      ]
     },
     "execution_count": 128,
     "metadata": {},
     "output_type": "execute_result"
    }
   ],
   "source": [
    "# see in browser\n",
    "response = read_gds(query)\n",
    "response"
   ]
  },
  {
   "cell_type": "markdown",
   "id": "d225242a",
   "metadata": {},
   "source": [
    "## Query the Database"
   ]
  },
  {
   "cell_type": "markdown",
   "id": "54cd5772",
   "metadata": {},
   "source": [
    "### GDS Execution Modes"
   ]
  },
  {
   "attachments": {
    "image.png": {
     "image/png": "[encoded data removed]"
    }
   },
   "cell_type": "markdown",
   "id": "a34d868c",
   "metadata": {},
   "source": [
    "![image.png](attachment:image.png){width=40%}{height=250px}"
   ]
  },
  {
   "cell_type": "code",
   "execution_count": null,
   "id": "424b2d36",
   "metadata": {},
   "outputs": [],
   "source": [
    "gds = GraphDataScience(URI, AUTH, database=\"p2p\")"
   ]
  },
  {
   "cell_type": "code",
   "execution_count": null,
   "id": "56f8a1b7",
   "metadata": {},
   "outputs": [],
   "source": [
    "# Model of running algorithms\n",
    "CALL gds[.<tier>].<algorithm>.<execution-mode>[.<estimate>](\n",
    "  graphName: String,\n",
    "  configuration: Map\n",
    ")"
   ]
  },
  {
   "cell_type": "code",
   "execution_count": null,
   "id": "7f830f9a",
   "metadata": {},
   "outputs": [],
   "source": [
    "# Clean exixting projections\n",
    "def clear_graph_by_name(g_name):\n",
    "    if gds.graph.exists(g_name).exists:\n",
    "        gds.graph.get(g_name).drop()\n",
    "\n",
    "def clear_all_graphs():\n",
    "    g_names = gds.graph.list().graphName.tolist()\n",
    "    for g_name in g_names:\n",
    "        gds.graph.get(g_name).drop()"
   ]
  },
  {
   "cell_type": "code",
   "execution_count": null,
   "id": "14d6abe9",
   "metadata": {},
   "outputs": [],
   "source": [
    "# fraud money transfer flags\n",
    "gds.run_cypher('MATCH(u:User) RETURN u.fraudMoneyTransfer AS fraud, count(u) AS cnt')"
   ]
  },
  {
   "cell_type": "markdown",
   "id": "cf0c0006",
   "metadata": {},
   "source": [
    "### Search for Patterns - Communities"
   ]
  },
  {
   "cell_type": "code",
   "execution_count": null,
   "id": "7d1dbde6",
   "metadata": {},
   "outputs": [],
   "source": [
    "# clear the graph if it exists beforehand\n",
    "clear_graph_by_name('proj')"
   ]
  },
  {
   "cell_type": "code",
   "execution_count": null,
   "id": "b509a382",
   "metadata": {},
   "outputs": [],
   "source": [
    "# create a projection\n",
    "query = \"\"\"\n",
    "    CALL gds.graph.project('dop', \n",
    "        'Character', 'INTERACTS')      \n",
    "\"\"\""
   ]
  },
  {
   "cell_type": "code",
   "execution_count": null,
   "id": "577ccfc4",
   "metadata": {},
   "outputs": [],
   "source": [
    "# create a graph object g - a memory projection\n",
    "g, meta = gds.graph.project('proj', \n",
    "                            ['User', 'Card', 'Device'], \n",
    "                            {'HAS_CC': {'orientation': 'UNDIRECTED'},\n",
    "                             'USED': {'orientation': 'UNDIRECTED'},\n",
    "                             'AGGREGATED_P2P': {'type':'P2P', 'orientation': 'NATURAL',\n",
    "                                'properties': {'numberOfTransactions':{'property': '*', 'aggregation': 'COUNT'}}}})"
   ]
  },
  {
   "cell_type": "code",
   "execution_count": null,
   "id": "3bedae75",
   "metadata": {},
   "outputs": [],
   "source": [
    "meta"
   ]
  },
  {
   "cell_type": "code",
   "execution_count": 53,
   "id": "69fd3ebe",
   "metadata": {},
   "outputs": [],
   "source": [
    "# run Louvain algorithm to detect comunitiesand create a new property\n",
    "result = gds.louvain.write(g, writeProperty='louvainCommunityId')"
   ]
  },
  {
   "cell_type": "code",
   "execution_count": 56,
   "id": "b69e61a1",
   "metadata": {},
   "outputs": [
    {
     "data": {
      "text/html": [
       "<div>\n",
       "<style scoped>\n",
       "    .dataframe tbody tr th:only-of-type {\n",
       "        vertical-align: middle;\n",
       "    }\n",
       "\n",
       "    .dataframe tbody tr th {\n",
       "        vertical-align: top;\n",
       "    }\n",
       "\n",
       "    .dataframe thead th {\n",
       "        text-align: right;\n",
       "    }\n",
       "</style>\n",
       "<table border=\"1\" class=\"dataframe\">\n",
       "  <thead>\n",
       "    <tr style=\"text-align: right;\">\n",
       "      <th></th>\n",
       "      <th>community</th>\n",
       "      <th>cnt</th>\n",
       "    </tr>\n",
       "  </thead>\n",
       "  <tbody>\n",
       "    <tr>\n",
       "      <th>0</th>\n",
       "      <td>170803</td>\n",
       "      <td>815</td>\n",
       "    </tr>\n",
       "    <tr>\n",
       "      <th>1</th>\n",
       "      <td>170271</td>\n",
       "      <td>2</td>\n",
       "    </tr>\n",
       "    <tr>\n",
       "      <th>2</th>\n",
       "      <td>174914</td>\n",
       "      <td>4</td>\n",
       "    </tr>\n",
       "    <tr>\n",
       "      <th>3</th>\n",
       "      <td>170273</td>\n",
       "      <td>2</td>\n",
       "    </tr>\n",
       "    <tr>\n",
       "      <th>4</th>\n",
       "      <td>34703</td>\n",
       "      <td>4</td>\n",
       "    </tr>\n",
       "    <tr>\n",
       "      <th>...</th>\n",
       "      <td>...</td>\n",
       "      <td>...</td>\n",
       "    </tr>\n",
       "    <tr>\n",
       "      <th>11663</th>\n",
       "      <td>203963</td>\n",
       "      <td>1</td>\n",
       "    </tr>\n",
       "    <tr>\n",
       "      <th>11664</th>\n",
       "      <td>203966</td>\n",
       "      <td>1</td>\n",
       "    </tr>\n",
       "    <tr>\n",
       "      <th>11665</th>\n",
       "      <td>106046</td>\n",
       "      <td>1</td>\n",
       "    </tr>\n",
       "    <tr>\n",
       "      <th>11666</th>\n",
       "      <td>41585</td>\n",
       "      <td>1</td>\n",
       "    </tr>\n",
       "    <tr>\n",
       "      <th>11667</th>\n",
       "      <td>203983</td>\n",
       "      <td>1</td>\n",
       "    </tr>\n",
       "  </tbody>\n",
       "</table>\n",
       "<p>11668 rows × 2 columns</p>\n",
       "</div>"
      ],
      "text/plain": [
       "       community  cnt\n",
       "0         170803  815\n",
       "1         170271    2\n",
       "2         174914    4\n",
       "3         170273    2\n",
       "4          34703    4\n",
       "...          ...  ...\n",
       "11663     203963    1\n",
       "11664     203966    1\n",
       "11665     106046    1\n",
       "11666      41585    1\n",
       "11667     203983    1\n",
       "\n",
       "[11668 rows x 2 columns]"
      ]
     },
     "execution_count": 56,
     "metadata": {},
     "output_type": "execute_result"
    }
   ],
   "source": [
    "# observe the new flag\n",
    "gds.run_cypher('MATCH(u:User) RETURN u.louvainCommunityId AS community, count(u) AS cnt')"
   ]
  },
  {
   "cell_type": "code",
   "execution_count": 58,
   "id": "98618842",
   "metadata": {
    "scrolled": true
   },
   "outputs": [
    {
     "data": {
      "text/html": [
       "<div>\n",
       "<style scoped>\n",
       "    .dataframe tbody tr th:only-of-type {\n",
       "        vertical-align: middle;\n",
       "    }\n",
       "\n",
       "    .dataframe tbody tr th {\n",
       "        vertical-align: top;\n",
       "    }\n",
       "\n",
       "    .dataframe thead th {\n",
       "        text-align: right;\n",
       "    }\n",
       "</style>\n",
       "<table border=\"1\" class=\"dataframe\">\n",
       "  <thead>\n",
       "    <tr style=\"text-align: right;\">\n",
       "      <th></th>\n",
       "      <th>communityId</th>\n",
       "      <th>userCount</th>\n",
       "      <th>flaggedCount</th>\n",
       "      <th>flaggedRatio</th>\n",
       "    </tr>\n",
       "  </thead>\n",
       "  <tbody>\n",
       "    <tr>\n",
       "      <th>0</th>\n",
       "      <td>25771</td>\n",
       "      <td>149</td>\n",
       "      <td>7</td>\n",
       "      <td>0.046980</td>\n",
       "    </tr>\n",
       "    <tr>\n",
       "      <th>1</th>\n",
       "      <td>182733</td>\n",
       "      <td>7</td>\n",
       "      <td>4</td>\n",
       "      <td>0.571429</td>\n",
       "    </tr>\n",
       "    <tr>\n",
       "      <th>2</th>\n",
       "      <td>35239</td>\n",
       "      <td>7</td>\n",
       "      <td>3</td>\n",
       "      <td>0.428571</td>\n",
       "    </tr>\n",
       "    <tr>\n",
       "      <th>3</th>\n",
       "      <td>176956</td>\n",
       "      <td>3</td>\n",
       "      <td>3</td>\n",
       "      <td>1.000000</td>\n",
       "    </tr>\n",
       "    <tr>\n",
       "      <th>4</th>\n",
       "      <td>173038</td>\n",
       "      <td>229</td>\n",
       "      <td>3</td>\n",
       "      <td>0.013100</td>\n",
       "    </tr>\n",
       "    <tr>\n",
       "      <th>...</th>\n",
       "      <td>...</td>\n",
       "      <td>...</td>\n",
       "      <td>...</td>\n",
       "      <td>...</td>\n",
       "    </tr>\n",
       "    <tr>\n",
       "      <th>95</th>\n",
       "      <td>5799</td>\n",
       "      <td>4</td>\n",
       "      <td>1</td>\n",
       "      <td>0.250000</td>\n",
       "    </tr>\n",
       "    <tr>\n",
       "      <th>96</th>\n",
       "      <td>180420</td>\n",
       "      <td>61</td>\n",
       "      <td>1</td>\n",
       "      <td>0.016393</td>\n",
       "    </tr>\n",
       "    <tr>\n",
       "      <th>97</th>\n",
       "      <td>185933</td>\n",
       "      <td>141</td>\n",
       "      <td>1</td>\n",
       "      <td>0.007092</td>\n",
       "    </tr>\n",
       "    <tr>\n",
       "      <th>98</th>\n",
       "      <td>174011</td>\n",
       "      <td>20</td>\n",
       "      <td>1</td>\n",
       "      <td>0.050000</td>\n",
       "    </tr>\n",
       "    <tr>\n",
       "      <th>99</th>\n",
       "      <td>173401</td>\n",
       "      <td>5</td>\n",
       "      <td>1</td>\n",
       "      <td>0.200000</td>\n",
       "    </tr>\n",
       "  </tbody>\n",
       "</table>\n",
       "<p>100 rows × 4 columns</p>\n",
       "</div>"
      ],
      "text/plain": [
       "    communityId  userCount  flaggedCount  flaggedRatio\n",
       "0         25771        149             7      0.046980\n",
       "1        182733          7             4      0.571429\n",
       "2         35239          7             3      0.428571\n",
       "3        176956          3             3      1.000000\n",
       "4        173038        229             3      0.013100\n",
       "..          ...        ...           ...           ...\n",
       "95         5799          4             1      0.250000\n",
       "96       180420         61             1      0.016393\n",
       "97       185933        141             1      0.007092\n",
       "98       174011         20             1      0.050000\n",
       "99       173401          5             1      0.200000\n",
       "\n",
       "[100 rows x 4 columns]"
      ]
     },
     "execution_count": 58,
     "metadata": {},
     "output_type": "execute_result"
    }
   ],
   "source": [
    "# Louvain communities ordered by number of frauds\n",
    "gds.run_cypher('''\n",
    "    MATCH (u:User)\n",
    "    WITH u.louvainCommunityId AS communityId,\n",
    "        count(u) AS userCount,\n",
    "        sum(u.fraudMoneyTransfer) as flaggedCount\n",
    "    RETURN communityId,\n",
    "        userCount,\n",
    "        flaggedCount,\n",
    "        toFloat(flaggedCount)/toFloat(userCount) AS flaggedRatio\n",
    "    ORDER BY flaggedCount DESC LIMIT 100\n",
    "''')"
   ]
  },
  {
   "cell_type": "code",
   "execution_count": 67,
   "id": "c81ecf02",
   "metadata": {},
   "outputs": [],
   "source": [
    "params = {\"id\": \"5799\"}"
   ]
  },
  {
   "cell_type": "code",
   "execution_count": null,
   "id": "6906a19e",
   "metadata": {},
   "outputs": [],
   "source": [
    "# run in browser\n",
    "query = '''\n",
    "    MATCH(u1:User{louvainCommunityId: $id})-[r1:HAS_CC|HAS_IP|USED]->(n)<-[r2:HAS_CC|HAS_IP|USED]-(u2:User{louvainCommunityId: $id})\n",
    "    WITH *\n",
    "    OPTIONAL MATCH (u1)-[r3:P2P]-(u2)\n",
    "    RETURN *\n",
    "'''"
   ]
  },
  {
   "cell_type": "code",
   "execution_count": 69,
   "id": "d0b732af",
   "metadata": {},
   "outputs": [],
   "source": [
    "# run in browser\n",
    "query = '''   \n",
    "    MATCH(n1 {louvainCommunityId: $id})\n",
    "    MATCH(n2 {louvainCommunityId: $id})\n",
    "    WITH *\n",
    "    OPTIONAL MATCH (n1)-[r]-(n2)\n",
    "    RETURN *\n",
    "'''"
   ]
  },
  {
   "cell_type": "code",
   "execution_count": 70,
   "id": "2b397aec",
   "metadata": {},
   "outputs": [
    {
     "data": {
      "text/html": [
       "<div>\n",
       "<style scoped>\n",
       "    .dataframe tbody tr th:only-of-type {\n",
       "        vertical-align: middle;\n",
       "    }\n",
       "\n",
       "    .dataframe tbody tr th {\n",
       "        vertical-align: top;\n",
       "    }\n",
       "\n",
       "    .dataframe thead th {\n",
       "        text-align: right;\n",
       "    }\n",
       "</style>\n",
       "<table border=\"1\" class=\"dataframe\">\n",
       "  <thead>\n",
       "    <tr style=\"text-align: right;\">\n",
       "      <th></th>\n",
       "      <th>cnt</th>\n",
       "    </tr>\n",
       "  </thead>\n",
       "  <tbody>\n",
       "    <tr>\n",
       "      <th>0</th>\n",
       "      <td>6240</td>\n",
       "    </tr>\n",
       "  </tbody>\n",
       "</table>\n",
       "</div>"
      ],
      "text/plain": [
       "    cnt\n",
       "0  6240"
      ]
     },
     "execution_count": 70,
     "metadata": {},
     "output_type": "execute_result"
    }
   ],
   "source": [
    "# Count use of shared card and create a new link P2P_WITH_SHARED_CARD for it\n",
    "gds.run_cypher('''\n",
    "    MATCH (u1:User)-[r:P2P]->(u2)\n",
    "    WITH u1, u2, count(r) AS cnt\n",
    "    MATCH (u1)-[:HAS_CC]->(n)<-[:HAS_CC]-(u2)\n",
    "    WITH u1, u2, count(DISTINCT n) AS cnt\n",
    "    MERGE(u1)-[s:P2P_WITH_SHARED_CARD]->(u2)\n",
    "    RETURN count(DISTINCT s) AS cnt\n",
    "''')"
   ]
  },
  {
   "cell_type": "code",
   "execution_count": 77,
   "id": "c27411a0",
   "metadata": {},
   "outputs": [],
   "source": [
    "clear_graph_by_name('proj')"
   ]
  },
  {
   "cell_type": "code",
   "execution_count": 78,
   "id": "2ba726c8",
   "metadata": {},
   "outputs": [],
   "source": [
    "# Investigate and label the transactions with shared cards\n",
    "g, meta = gds.graph.project('proj', \n",
    "                            ['User'], {'P2P_WITH_SHARED_CARD': {'orientation': 'UNDIRECTED'}})"
   ]
  },
  {
   "cell_type": "code",
   "execution_count": 79,
   "id": "38e38a20",
   "metadata": {},
   "outputs": [
    {
     "data": {
      "text/plain": [
       "graphName                                                             proj\n",
       "database                                                               p2p\n",
       "databaseLocation                                                     local\n",
       "memoryUsage                                                               \n",
       "sizeInBytes                                                             -1\n",
       "nodeCount                                                            33732\n",
       "relationshipCount                                                    12480\n",
       "configuration            {'relationshipProjection': {'P2P_WITH_SHARED_C...\n",
       "density                                                           0.000011\n",
       "creationTime                           2024-04-25T00:50:39.330951000+00:00\n",
       "modificationTime                       2024-04-25T00:50:39.463954000+00:00\n",
       "schema                   {'graphProperties': {}, 'nodes': {'User': {}},...\n",
       "schemaWithOrientation    {'graphProperties': {}, 'nodes': {'User': {}},...\n",
       "Name: 0, dtype: object"
      ]
     },
     "execution_count": 79,
     "metadata": {},
     "output_type": "execute_result"
    }
   ],
   "source": [
    "# Create new property for Weakly Connected Components (WCC) - separate subgraphs\n",
    "df = gds.wcc.write(g, writeProperty='wccId')\n",
    "g.drop()"
   ]
  },
  {
   "cell_type": "code",
   "execution_count": 81,
   "id": "22880c94",
   "metadata": {},
   "outputs": [
    {
     "data": {
      "text/html": [
       "<div>\n",
       "<style scoped>\n",
       "    .dataframe tbody tr th:only-of-type {\n",
       "        vertical-align: middle;\n",
       "    }\n",
       "\n",
       "    .dataframe tbody tr th {\n",
       "        vertical-align: top;\n",
       "    }\n",
       "\n",
       "    .dataframe thead th {\n",
       "        text-align: right;\n",
       "    }\n",
       "</style>\n",
       "<table border=\"1\" class=\"dataframe\">\n",
       "  <thead>\n",
       "    <tr style=\"text-align: right;\">\n",
       "      <th></th>\n",
       "    </tr>\n",
       "  </thead>\n",
       "  <tbody>\n",
       "  </tbody>\n",
       "</table>\n",
       "</div>"
      ],
      "text/plain": [
       "Empty DataFrame\n",
       "Columns: []\n",
       "Index: []"
      ]
     },
     "execution_count": 81,
     "metadata": {},
     "output_type": "execute_result"
    }
   ],
   "source": [
    "gds.run_cypher('''\n",
    "    MATCH (u:User) WHERE NOT u:FraudRiskUser\n",
    "    SET u.fraudRisk=0\n",
    "''')"
   ]
  },
  {
   "cell_type": "markdown",
   "id": "5c9d5f10",
   "metadata": {},
   "source": [
    "## Predict Fraud Risk Accounts"
   ]
  },
  {
   "cell_type": "code",
   "execution_count": 82,
   "id": "d97ea5c4",
   "metadata": {},
   "outputs": [
    {
     "data": {
      "text/html": [
       "<div>\n",
       "<style scoped>\n",
       "    .dataframe tbody tr th:only-of-type {\n",
       "        vertical-align: middle;\n",
       "    }\n",
       "\n",
       "    .dataframe tbody tr th {\n",
       "        vertical-align: top;\n",
       "    }\n",
       "\n",
       "    .dataframe thead th {\n",
       "        text-align: right;\n",
       "    }\n",
       "</style>\n",
       "<table border=\"1\" class=\"dataframe\">\n",
       "  <thead>\n",
       "    <tr style=\"text-align: right;\">\n",
       "      <th></th>\n",
       "    </tr>\n",
       "  </thead>\n",
       "  <tbody>\n",
       "  </tbody>\n",
       "</table>\n",
       "</div>"
      ],
      "text/plain": [
       "Empty DataFrame\n",
       "Columns: []\n",
       "Index: []"
      ]
     },
     "execution_count": 82,
     "metadata": {},
     "output_type": "execute_result"
    }
   ],
   "source": [
    "# Mark communities\n",
    "gds.run_cypher('''\n",
    "    MATCH (u:User)\n",
    "    WITH u.wccId AS componentId, count(*) AS communitySize, collect(u) AS users\n",
    "    WITH communitySize, toInteger(communitySize > 1) AS partOfCommunity, users\n",
    "    UNWIND users as u\n",
    "    SET u.communitySize = communitySize\n",
    "    SET u.partOfCommunity = partOfCommunity;\n",
    "''')"
   ]
  },
  {
   "cell_type": "code",
   "execution_count": 98,
   "id": "da74ccce",
   "metadata": {},
   "outputs": [],
   "source": [
    "# Card-sharing centrality detection\n",
    "# clear the graph if it exists beforehand\n",
    "clear_graph_by_name('p2p-features')\n",
    "\n",
    "#project\n",
    "g, meta = gds.graph.project('p2p-features', \n",
    "          ['User'], \n",
    "          {'P2P': {'type': 'P2P', 'orientation': 'NATURAL', 'aggregation': 'SUM', 'properties': ['totalAmount']},\n",
    "           'P2P_REVERSE': {'type': 'P2P', 'orientation': 'REVERSE', 'aggregation': 'SUM', 'properties': ['totalAmount']},\n",
    "           'P2P_WITH_SHARED_CARD': {'type': 'P2P_WITH_SHARED_CARD', 'orientation': 'NATURAL'}\n",
    "})\n"
   ]
  },
  {
   "cell_type": "code",
   "execution_count": 84,
   "id": "63b2cb36",
   "metadata": {},
   "outputs": [
    {
     "data": {
      "text/plain": [
       "writeMillis                                                             179\n",
       "nodePropertiesWritten                                                 33732\n",
       "ranIterations                                                            97\n",
       "didConverge                                                            True\n",
       "centralityDistribution    {'min': 0.14999961853027344, 'max': 3.37539577...\n",
       "postProcessingMillis                                                     31\n",
       "preProcessingMillis                                                       0\n",
       "computeMillis                                                           414\n",
       "configuration             {'writeProperty': 'p2pSharedCardPageRank', 'jo...\n",
       "Name: 0, dtype: object"
      ]
     },
     "execution_count": 84,
     "metadata": {},
     "output_type": "execute_result"
    }
   ],
   "source": [
    "# shared card pageRank (influence)\n",
    "gds.pageRank.write(g, relationshipTypes=['P2P_WITH_SHARED_CARD'], maxIterations=1000,\n",
    "                   writeProperty='p2pSharedCardPageRank')"
   ]
  },
  {
   "cell_type": "code",
   "execution_count": 85,
   "id": "9ff1cdf7",
   "metadata": {},
   "outputs": [
    {
     "data": {
      "text/plain": [
       "writeMillis                                                             203\n",
       "nodePropertiesWritten                                                 33732\n",
       "ranIterations                                                           103\n",
       "didConverge                                                            True\n",
       "centralityDistribution    {'min': 0.14999961853027344, 'max': 28.1669912...\n",
       "postProcessingMillis                                                     39\n",
       "preProcessingMillis                                                       0\n",
       "computeMillis                                                           325\n",
       "configuration             {'writeProperty': 'p2pSentPageRank', 'jobId': ...\n",
       "Name: 0, dtype: object"
      ]
     },
     "execution_count": 85,
     "metadata": {},
     "output_type": "execute_result"
    }
   ],
   "source": [
    "# pageRank of P2P sender and receiver \n",
    "gds.pageRank.write(g, relationshipTypes=['P2P'], maxIterations=1000, writeProperty='p2pSentPageRank')"
   ]
  },
  {
   "cell_type": "code",
   "execution_count": 99,
   "id": "df54bd87",
   "metadata": {},
   "outputs": [
    {
     "data": {
      "text/plain": [
       "writeMillis                                                             157\n",
       "nodePropertiesWritten                                                 33732\n",
       "ranIterations                                                           112\n",
       "didConverge                                                            True\n",
       "centralityDistribution    {'min': 0.14999961853027344, 'max': 501.640624...\n",
       "postProcessingMillis                                                     56\n",
       "preProcessingMillis                                                       0\n",
       "computeMillis                                                           358\n",
       "configuration             {'writeProperty': 'p2pReceivedWeightedPageRank...\n",
       "Name: 0, dtype: object"
      ]
     },
     "execution_count": 99,
     "metadata": {},
     "output_type": "execute_result"
    }
   ],
   "source": [
    "# P2P receiver pageRank\n",
    "gds.pageRank.write(g, relationshipTypes=['P2P_REVERSE'], maxIterations=1000, relationshipWeightProperty='totalAmount',\n",
    "                   writeProperty='p2pReceivedWeightedPageRank')"
   ]
  },
  {
   "cell_type": "code",
   "execution_count": 86,
   "id": "6f00d1e7",
   "metadata": {},
   "outputs": [
    {
     "data": {
      "text/plain": [
       "nodePropertiesWritten                                                 33732\n",
       "writeMillis                                                             135\n",
       "centralityDistribution    {'min': 0.0, 'max': 498911.9999694824, 'p90': ...\n",
       "postProcessingMillis                                                    306\n",
       "preProcessingMillis                                                       0\n",
       "computeMillis                                                            12\n",
       "configuration             {'writeProperty': 'p2pReceivedWeightedDegree',...\n",
       "Name: 0, dtype: object"
      ]
     },
     "execution_count": 86,
     "metadata": {},
     "output_type": "execute_result"
    }
   ],
   "source": [
    "# P2P receiver with weighted degree centrality\n",
    "gds.degree.write(g, relationshipTypes=['P2P_REVERSE'], relationshipWeightProperty='totalAmount',\n",
    "                 writeProperty='p2pReceivedWeightedDegree')"
   ]
  },
  {
   "cell_type": "code",
   "execution_count": 87,
   "id": "24c220f0",
   "metadata": {},
   "outputs": [
    {
     "data": {
      "text/plain": [
       "graphName                                                     p2p-features\n",
       "database                                                               p2p\n",
       "databaseLocation                                                     local\n",
       "memoryUsage                                                               \n",
       "sizeInBytes                                                             -1\n",
       "nodeCount                                                            33732\n",
       "relationshipCount                                                    92510\n",
       "configuration            {'relationshipProjection': {'P2P_WITH_SHARED_C...\n",
       "density                                                           0.000081\n",
       "creationTime                           2024-04-25T01:06:12.305628000+00:00\n",
       "modificationTime                       2024-04-25T01:06:12.511003000+00:00\n",
       "schema                   {'graphProperties': {}, 'nodes': {'User': {}},...\n",
       "schemaWithOrientation    {'graphProperties': {}, 'nodes': {'User': {}},...\n",
       "Name: 0, dtype: object"
      ]
     },
     "execution_count": 87,
     "metadata": {},
     "output_type": "execute_result"
    }
   ],
   "source": [
    "g.drop()"
   ]
  },
  {
   "cell_type": "markdown",
   "id": "7af8076a",
   "metadata": {},
   "source": [
    "### Centrality of Individuals"
   ]
  },
  {
   "cell_type": "code",
   "execution_count": 88,
   "id": "a9b36a8e",
   "metadata": {},
   "outputs": [],
   "source": [
    "# clear the graph if it exists beforehand\n",
    "clear_graph_by_name('p2p-features')\n",
    "\n",
    "#project\n",
    "g, meta = gds.graph.project('user-centrality-features', \n",
    "                            ['User', 'Card', 'Device', 'IP'], \n",
    "                            ['HAS_CC', 'HAS_IP', 'USED'])"
   ]
  },
  {
   "cell_type": "code",
   "execution_count": 89,
   "id": "dd2f158d",
   "metadata": {},
   "outputs": [
    {
     "data": {
      "text/plain": [
       "nodePropertiesWritten                                                619587\n",
       "mutateMillis                                                              0\n",
       "centralityDistribution    {'min': 0.0, 'max': 849.0038986206055, 'p90': ...\n",
       "postProcessingMillis                                                      0\n",
       "preProcessingMillis                                                       0\n",
       "computeMillis                                                            50\n",
       "configuration             {'orientation': 'NATURAL', 'mutateProperty': '...\n",
       "Name: 0, dtype: object"
      ]
     },
     "execution_count": 89,
     "metadata": {},
     "output_type": "execute_result"
    }
   ],
   "source": [
    "# card count/degree\n",
    "gds.degree.mutate(g, nodeLabels=['User', 'Card'], relationshipTypes=['HAS_CC'], mutateProperty='cardDegree')\n",
    "\n",
    "# device count/degree\n",
    "gds.degree.mutate(g, nodeLabels=['User', 'Device'], relationshipTypes=['USED'], mutateProperty='deviceDegree')\n",
    "\n",
    "# IP count/degree\n",
    "gds.degree.mutate(g, nodeLabels=['User', 'IP'], relationshipTypes=['HAS_IP'], mutateProperty='ipDegree')"
   ]
  },
  {
   "cell_type": "code",
   "execution_count": 90,
   "id": "4813f3a7",
   "metadata": {},
   "outputs": [
    {
     "data": {
      "text/plain": [
       "writeMillis                                           336\n",
       "graphName                        user-centrality-features\n",
       "nodeProperties       [cardDegree, deviceDegree, ipDegree]\n",
       "propertiesWritten                                  101196\n",
       "Name: 0, dtype: object"
      ]
     },
     "execution_count": 90,
     "metadata": {},
     "output_type": "execute_result"
    }
   ],
   "source": [
    "# write node properties\n",
    "gds.graph.writeNodeProperties(g, ['cardDegree', 'deviceDegree', 'ipDegree'], ['User'])"
   ]
  },
  {
   "cell_type": "code",
   "execution_count": 91,
   "id": "bc055097",
   "metadata": {},
   "outputs": [
    {
     "data": {
      "text/plain": [
       "graphName                                         user-centrality-features\n",
       "database                                                               p2p\n",
       "databaseLocation                                                     local\n",
       "memoryUsage                                                               \n",
       "sizeInBytes                                                             -1\n",
       "nodeCount                                                           789856\n",
       "relationshipCount                                                  1672041\n",
       "configuration            {'relationshipProjection': {'HAS_IP': {'aggreg...\n",
       "density                                                           0.000003\n",
       "creationTime                           2024-04-25T01:25:30.700030000+00:00\n",
       "modificationTime                       2024-04-25T01:26:03.350268000+00:00\n",
       "schema                   {'graphProperties': {}, 'nodes': {'User': {'de...\n",
       "schemaWithOrientation    {'graphProperties': {}, 'nodes': {'User': {'de...\n",
       "Name: 0, dtype: object"
      ]
     },
     "execution_count": 91,
     "metadata": {},
     "output_type": "execute_result"
    }
   ],
   "source": [
    "g.drop()"
   ]
  },
  {
   "cell_type": "markdown",
   "id": "334f7c1f",
   "metadata": {},
   "source": [
    "## Machine Learning for Predicting the Risk of Fraud"
   ]
  },
  {
   "cell_type": "markdown",
   "id": "8bbedcdf",
   "metadata": {},
   "source": [
    "### Data of Users With the Assigned Features"
   ]
  },
  {
   "cell_type": "code",
   "execution_count": 92,
   "id": "34428d2c",
   "metadata": {},
   "outputs": [
    {
     "data": {
      "text/html": [
       "<div>\n",
       "<style scoped>\n",
       "    .dataframe tbody tr th:only-of-type {\n",
       "        vertical-align: middle;\n",
       "    }\n",
       "\n",
       "    .dataframe tbody tr th {\n",
       "        vertical-align: top;\n",
       "    }\n",
       "\n",
       "    .dataframe thead th {\n",
       "        text-align: right;\n",
       "    }\n",
       "</style>\n",
       "<table border=\"1\" class=\"dataframe\">\n",
       "  <thead>\n",
       "    <tr style=\"text-align: right;\">\n",
       "      <th></th>\n",
       "      <th>guid</th>\n",
       "      <th>wccId</th>\n",
       "      <th>fraudRisk</th>\n",
       "      <th>fraudMoneyTransfer</th>\n",
       "      <th>p2pSharedCardPageRank</th>\n",
       "      <th>p2pSentPageRank</th>\n",
       "      <th>p2pReceivedWeightedPageRank</th>\n",
       "      <th>p2pReceivedWeightedDegree</th>\n",
       "      <th>ipDegree</th>\n",
       "      <th>cardDegree</th>\n",
       "      <th>deviceDegree</th>\n",
       "      <th>communitySize</th>\n",
       "      <th>partOfCommunity</th>\n",
       "    </tr>\n",
       "  </thead>\n",
       "  <tbody>\n",
       "    <tr>\n",
       "      <th>0</th>\n",
       "      <td>be0222d26897046dc92ae2929d3427e7</td>\n",
       "      <td>0</td>\n",
       "      <td>0</td>\n",
       "      <td>0</td>\n",
       "      <td>0.150000</td>\n",
       "      <td>0.175456</td>\n",
       "      <td>None</td>\n",
       "      <td>10.0</td>\n",
       "      <td>21.0</td>\n",
       "      <td>3.0</td>\n",
       "      <td>4.0</td>\n",
       "      <td>1</td>\n",
       "      <td>0</td>\n",
       "    </tr>\n",
       "    <tr>\n",
       "      <th>1</th>\n",
       "      <td>59515432f0e2e79b83e9524c94f7f86e</td>\n",
       "      <td>1</td>\n",
       "      <td>0</td>\n",
       "      <td>0</td>\n",
       "      <td>0.150000</td>\n",
       "      <td>0.310548</td>\n",
       "      <td>None</td>\n",
       "      <td>10.0</td>\n",
       "      <td>7.0</td>\n",
       "      <td>1.0</td>\n",
       "      <td>1.0</td>\n",
       "      <td>1</td>\n",
       "      <td>0</td>\n",
       "    </tr>\n",
       "    <tr>\n",
       "      <th>2</th>\n",
       "      <td>ba1f4324c66ee093478d41a6826a3649</td>\n",
       "      <td>2</td>\n",
       "      <td>0</td>\n",
       "      <td>0</td>\n",
       "      <td>0.150000</td>\n",
       "      <td>0.277500</td>\n",
       "      <td>None</td>\n",
       "      <td>160.0</td>\n",
       "      <td>8.0</td>\n",
       "      <td>2.0</td>\n",
       "      <td>1.0</td>\n",
       "      <td>1</td>\n",
       "      <td>0</td>\n",
       "    </tr>\n",
       "    <tr>\n",
       "      <th>3</th>\n",
       "      <td>8a18e1625e35a9f66abfd7bd2d04f0b3</td>\n",
       "      <td>3</td>\n",
       "      <td>0</td>\n",
       "      <td>0</td>\n",
       "      <td>0.150000</td>\n",
       "      <td>0.230174</td>\n",
       "      <td>None</td>\n",
       "      <td>100.0</td>\n",
       "      <td>135.0</td>\n",
       "      <td>12.0</td>\n",
       "      <td>2.0</td>\n",
       "      <td>1</td>\n",
       "      <td>0</td>\n",
       "    </tr>\n",
       "    <tr>\n",
       "      <th>4</th>\n",
       "      <td>9f705a0107acc25a57f9e6aa8436a08e</td>\n",
       "      <td>4</td>\n",
       "      <td>0</td>\n",
       "      <td>0</td>\n",
       "      <td>0.150000</td>\n",
       "      <td>0.391426</td>\n",
       "      <td>None</td>\n",
       "      <td>2703.6</td>\n",
       "      <td>169.0</td>\n",
       "      <td>9.0</td>\n",
       "      <td>2.0</td>\n",
       "      <td>1</td>\n",
       "      <td>0</td>\n",
       "    </tr>\n",
       "    <tr>\n",
       "      <th>...</th>\n",
       "      <td>...</td>\n",
       "      <td>...</td>\n",
       "      <td>...</td>\n",
       "      <td>...</td>\n",
       "      <td>...</td>\n",
       "      <td>...</td>\n",
       "      <td>...</td>\n",
       "      <td>...</td>\n",
       "      <td>...</td>\n",
       "      <td>...</td>\n",
       "      <td>...</td>\n",
       "      <td>...</td>\n",
       "      <td>...</td>\n",
       "    </tr>\n",
       "    <tr>\n",
       "      <th>33727</th>\n",
       "      <td>f3693169dcc9064114a171c5c2f485b5</td>\n",
       "      <td>33727</td>\n",
       "      <td>0</td>\n",
       "      <td>0</td>\n",
       "      <td>0.150000</td>\n",
       "      <td>0.297005</td>\n",
       "      <td>None</td>\n",
       "      <td>5.0</td>\n",
       "      <td>14.0</td>\n",
       "      <td>2.0</td>\n",
       "      <td>2.0</td>\n",
       "      <td>1</td>\n",
       "      <td>0</td>\n",
       "    </tr>\n",
       "    <tr>\n",
       "      <th>33728</th>\n",
       "      <td>10f7f048645c602de3fae7c2cf81b254</td>\n",
       "      <td>27913</td>\n",
       "      <td>0</td>\n",
       "      <td>0</td>\n",
       "      <td>0.999999</td>\n",
       "      <td>0.371382</td>\n",
       "      <td>None</td>\n",
       "      <td>150.0</td>\n",
       "      <td>5.0</td>\n",
       "      <td>4.0</td>\n",
       "      <td>4.0</td>\n",
       "      <td>2</td>\n",
       "      <td>1</td>\n",
       "    </tr>\n",
       "    <tr>\n",
       "      <th>33729</th>\n",
       "      <td>d3a4469957800636802a8de4874af1bc</td>\n",
       "      <td>33729</td>\n",
       "      <td>0</td>\n",
       "      <td>0</td>\n",
       "      <td>0.150000</td>\n",
       "      <td>0.150000</td>\n",
       "      <td>None</td>\n",
       "      <td>0.0</td>\n",
       "      <td>38.0</td>\n",
       "      <td>2.0</td>\n",
       "      <td>0.0</td>\n",
       "      <td>1</td>\n",
       "      <td>0</td>\n",
       "    </tr>\n",
       "    <tr>\n",
       "      <th>33730</th>\n",
       "      <td>4698ccb2e4b07b1974741f634115e49b</td>\n",
       "      <td>33730</td>\n",
       "      <td>0</td>\n",
       "      <td>0</td>\n",
       "      <td>0.150000</td>\n",
       "      <td>0.181054</td>\n",
       "      <td>None</td>\n",
       "      <td>10.0</td>\n",
       "      <td>1.0</td>\n",
       "      <td>1.0</td>\n",
       "      <td>0.0</td>\n",
       "      <td>1</td>\n",
       "      <td>0</td>\n",
       "    </tr>\n",
       "    <tr>\n",
       "      <th>33731</th>\n",
       "      <td>8eea038c1a3408651f5980631768deaf</td>\n",
       "      <td>33731</td>\n",
       "      <td>0</td>\n",
       "      <td>0</td>\n",
       "      <td>0.150000</td>\n",
       "      <td>0.185296</td>\n",
       "      <td>None</td>\n",
       "      <td>5.0</td>\n",
       "      <td>2.0</td>\n",
       "      <td>1.0</td>\n",
       "      <td>0.0</td>\n",
       "      <td>1</td>\n",
       "      <td>0</td>\n",
       "    </tr>\n",
       "  </tbody>\n",
       "</table>\n",
       "<p>33732 rows × 13 columns</p>\n",
       "</div>"
      ],
      "text/plain": [
       "                                   guid  wccId  fraudRisk  fraudMoneyTransfer  \\\n",
       "0      be0222d26897046dc92ae2929d3427e7      0          0                   0   \n",
       "1      59515432f0e2e79b83e9524c94f7f86e      1          0                   0   \n",
       "2      ba1f4324c66ee093478d41a6826a3649      2          0                   0   \n",
       "3      8a18e1625e35a9f66abfd7bd2d04f0b3      3          0                   0   \n",
       "4      9f705a0107acc25a57f9e6aa8436a08e      4          0                   0   \n",
       "...                                 ...    ...        ...                 ...   \n",
       "33727  f3693169dcc9064114a171c5c2f485b5  33727          0                   0   \n",
       "33728  10f7f048645c602de3fae7c2cf81b254  27913          0                   0   \n",
       "33729  d3a4469957800636802a8de4874af1bc  33729          0                   0   \n",
       "33730  4698ccb2e4b07b1974741f634115e49b  33730          0                   0   \n",
       "33731  8eea038c1a3408651f5980631768deaf  33731          0                   0   \n",
       "\n",
       "       p2pSharedCardPageRank  p2pSentPageRank p2pReceivedWeightedPageRank  \\\n",
       "0                   0.150000         0.175456                        None   \n",
       "1                   0.150000         0.310548                        None   \n",
       "2                   0.150000         0.277500                        None   \n",
       "3                   0.150000         0.230174                        None   \n",
       "4                   0.150000         0.391426                        None   \n",
       "...                      ...              ...                         ...   \n",
       "33727               0.150000         0.297005                        None   \n",
       "33728               0.999999         0.371382                        None   \n",
       "33729               0.150000         0.150000                        None   \n",
       "33730               0.150000         0.181054                        None   \n",
       "33731               0.150000         0.185296                        None   \n",
       "\n",
       "       p2pReceivedWeightedDegree  ipDegree  cardDegree  deviceDegree  \\\n",
       "0                           10.0      21.0         3.0           4.0   \n",
       "1                           10.0       7.0         1.0           1.0   \n",
       "2                          160.0       8.0         2.0           1.0   \n",
       "3                          100.0     135.0        12.0           2.0   \n",
       "4                         2703.6     169.0         9.0           2.0   \n",
       "...                          ...       ...         ...           ...   \n",
       "33727                        5.0      14.0         2.0           2.0   \n",
       "33728                      150.0       5.0         4.0           4.0   \n",
       "33729                        0.0      38.0         2.0           0.0   \n",
       "33730                       10.0       1.0         1.0           0.0   \n",
       "33731                        5.0       2.0         1.0           0.0   \n",
       "\n",
       "       communitySize  partOfCommunity  \n",
       "0                  1                0  \n",
       "1                  1                0  \n",
       "2                  1                0  \n",
       "3                  1                0  \n",
       "4                  1                0  \n",
       "...              ...              ...  \n",
       "33727              1                0  \n",
       "33728              2                1  \n",
       "33729              1                0  \n",
       "33730              1                0  \n",
       "33731              1                0  \n",
       "\n",
       "[33732 rows x 13 columns]"
      ]
     },
     "execution_count": 92,
     "metadata": {},
     "output_type": "execute_result"
    }
   ],
   "source": [
    "df = gds.run_cypher('''\n",
    "    MATCH(u:User)\n",
    "    RETURN u.guid AS guid,\n",
    "        u.wccId AS wccId,\n",
    "        u.fraudRisk AS fraudRisk,\n",
    "        u.fraudMoneyTransfer AS fraudMoneyTransfer,\n",
    "        u.p2pSharedCardPageRank AS p2pSharedCardPageRank,\n",
    "        u.p2pSentPageRank AS p2pSentPageRank,\n",
    "        u.p2pReceivedWeightedPageRank AS p2pReceivedWeightedPageRank,\n",
    "        u.p2pReceivedWeightedDegree AS p2pReceivedWeightedDegree,\n",
    "        u.ipDegree AS ipDegree,\n",
    "        u.cardDegree AS cardDegree,\n",
    "        u.deviceDegree AS deviceDegree,\n",
    "        u.communitySize AS communitySize,\n",
    "        u.partOfCommunity AS partOfCommunity\n",
    "''')\n",
    "df"
   ]
  },
  {
   "cell_type": "code",
   "execution_count": 101,
   "id": "4d2ac023",
   "metadata": {},
   "outputs": [
    {
     "data": {
      "text/plain": [
       "guid                               0\n",
       "wccId                              0\n",
       "fraudRisk                          0\n",
       "fraudMoneyTransfer                 0\n",
       "p2pSharedCardPageRank              0\n",
       "p2pSentPageRank                    0\n",
       "p2pReceivedWeightedPageRank    33732\n",
       "p2pReceivedWeightedDegree          0\n",
       "ipDegree                           0\n",
       "cardDegree                         0\n",
       "deviceDegree                       0\n",
       "communitySize                      0\n",
       "partOfCommunity                    0\n",
       "dtype: int64"
      ]
     },
     "execution_count": 101,
     "metadata": {},
     "output_type": "execute_result"
    }
   ],
   "source": [
    "df.isnull().sum()"
   ]
  },
  {
   "cell_type": "code",
   "execution_count": 102,
   "id": "ce6ec133",
   "metadata": {},
   "outputs": [],
   "source": [
    "# Redesign and split into X and y\n",
    "X = df.drop(columns=['fraudRisk', 'fraudMoneyTransfer', 'wccId', 'guid', 'p2pReceivedWeightedPageRank'])\n",
    "y = df.fraudRisk - df.fraudMoneyTransfer"
   ]
  },
  {
   "cell_type": "markdown",
   "id": "8a735760",
   "metadata": {},
   "source": [
    "### Train and Test"
   ]
  },
  {
   "cell_type": "code",
   "execution_count": 103,
   "id": "2ce7d7c8",
   "metadata": {},
   "outputs": [],
   "source": [
    "# Split in train and test data\n",
    "from sklearn.model_selection import train_test_split\n",
    "X_train, X_test, y_train, y_test = train_test_split(X, y, test_size=0.2, random_state=0)"
   ]
  },
  {
   "cell_type": "code",
   "execution_count": 104,
   "id": "be439a0d",
   "metadata": {},
   "outputs": [
    {
     "data": {
      "text/html": [
       "<style>#sk-container-id-1 {color: black;}#sk-container-id-1 pre{padding: 0;}#sk-container-id-1 div.sk-toggleable {background-color: white;}#sk-container-id-1 label.sk-toggleable__label {cursor: pointer;display: block;width: 100%;margin-bottom: 0;padding: 0.3em;box-sizing: border-box;text-align: center;}#sk-container-id-1 label.sk-toggleable__label-arrow:before {content: \"▸\";float: left;margin-right: 0.25em;color: #696969;}#sk-container-id-1 label.sk-toggleable__label-arrow:hover:before {color: black;}#sk-container-id-1 div.sk-estimator:hover label.sk-toggleable__label-arrow:before {color: black;}#sk-container-id-1 div.sk-toggleable__content {max-height: 0;max-width: 0;overflow: hidden;text-align: left;background-color: #f0f8ff;}#sk-container-id-1 div.sk-toggleable__content pre {margin: 0.2em;color: black;border-radius: 0.25em;background-color: #f0f8ff;}#sk-container-id-1 input.sk-toggleable__control:checked~div.sk-toggleable__content {max-height: 200px;max-width: 100%;overflow: auto;}#sk-container-id-1 input.sk-toggleable__control:checked~label.sk-toggleable__label-arrow:before {content: \"▾\";}#sk-container-id-1 div.sk-estimator input.sk-toggleable__control:checked~label.sk-toggleable__label {background-color: #d4ebff;}#sk-container-id-1 div.sk-label input.sk-toggleable__control:checked~label.sk-toggleable__label {background-color: #d4ebff;}#sk-container-id-1 input.sk-hidden--visually {border: 0;clip: rect(1px 1px 1px 1px);clip: rect(1px, 1px, 1px, 1px);height: 1px;margin: -1px;overflow: hidden;padding: 0;position: absolute;width: 1px;}#sk-container-id-1 div.sk-estimator {font-family: monospace;background-color: #f0f8ff;border: 1px dotted black;border-radius: 0.25em;box-sizing: border-box;margin-bottom: 0.5em;}#sk-container-id-1 div.sk-estimator:hover {background-color: #d4ebff;}#sk-container-id-1 div.sk-parallel-item::after {content: \"\";width: 100%;border-bottom: 1px solid gray;flex-grow: 1;}#sk-container-id-1 div.sk-label:hover label.sk-toggleable__label {background-color: #d4ebff;}#sk-container-id-1 div.sk-serial::before {content: \"\";position: absolute;border-left: 1px solid gray;box-sizing: border-box;top: 0;bottom: 0;left: 50%;z-index: 0;}#sk-container-id-1 div.sk-serial {display: flex;flex-direction: column;align-items: center;background-color: white;padding-right: 0.2em;padding-left: 0.2em;position: relative;}#sk-container-id-1 div.sk-item {position: relative;z-index: 1;}#sk-container-id-1 div.sk-parallel {display: flex;align-items: stretch;justify-content: center;background-color: white;position: relative;}#sk-container-id-1 div.sk-item::before, #sk-container-id-1 div.sk-parallel-item::before {content: \"\";position: absolute;border-left: 1px solid gray;box-sizing: border-box;top: 0;bottom: 0;left: 50%;z-index: -1;}#sk-container-id-1 div.sk-parallel-item {display: flex;flex-direction: column;z-index: 1;position: relative;background-color: white;}#sk-container-id-1 div.sk-parallel-item:first-child::after {align-self: flex-end;width: 50%;}#sk-container-id-1 div.sk-parallel-item:last-child::after {align-self: flex-start;width: 50%;}#sk-container-id-1 div.sk-parallel-item:only-child::after {width: 0;}#sk-container-id-1 div.sk-dashed-wrapped {border: 1px dashed gray;margin: 0 0.4em 0.5em 0.4em;box-sizing: border-box;padding-bottom: 0.4em;background-color: white;}#sk-container-id-1 div.sk-label label {font-family: monospace;font-weight: bold;display: inline-block;line-height: 1.2em;}#sk-container-id-1 div.sk-label-container {text-align: center;}#sk-container-id-1 div.sk-container {/* jupyter's `normalize.less` sets `[hidden] { display: none; }` but bootstrap.min.css set `[hidden] { display: none !important; }` so we also need the `!important` here to be able to override the default hidden behavior on the sphinx rendered scikit-learn.org. See: https://github.com/scikit-learn/scikit-learn/issues/21755 */display: inline-block !important;position: relative;}#sk-container-id-1 div.sk-text-repr-fallback {display: none;}</style><div id=\"sk-container-id-1\" class=\"sk-top-container\"><div class=\"sk-text-repr-fallback\"><pre>RandomForestClassifier(class_weight=&#x27;balanced&#x27;, max_depth=5, n_estimators=500,\n",
       "                       random_state=0)</pre><b>In a Jupyter environment, please rerun this cell to show the HTML representation or trust the notebook. <br />On GitHub, the HTML representation is unable to render, please try loading this page with nbviewer.org.</b></div><div class=\"sk-container\" hidden><div class=\"sk-item\"><div class=\"sk-estimator sk-toggleable\"><input class=\"sk-toggleable__control sk-hidden--visually\" id=\"sk-estimator-id-1\" type=\"checkbox\" checked><label for=\"sk-estimator-id-1\" class=\"sk-toggleable__label sk-toggleable__label-arrow\">RandomForestClassifier</label><div class=\"sk-toggleable__content\"><pre>RandomForestClassifier(class_weight=&#x27;balanced&#x27;, max_depth=5, n_estimators=500,\n",
       "                       random_state=0)</pre></div></div></div></div></div>"
      ],
      "text/plain": [
       "RandomForestClassifier(class_weight='balanced', max_depth=5, n_estimators=500,\n",
       "                       random_state=0)"
      ]
     },
     "execution_count": 104,
     "metadata": {},
     "output_type": "execute_result"
    }
   ],
   "source": [
    "# Train with Random Forest Algorithm\n",
    "from sklearn.ensemble import RandomForestClassifier\n",
    "clf = RandomForestClassifier(n_estimators=500, random_state=0, max_depth=5, bootstrap=True, class_weight='balanced')\n",
    "clf.fit(X_train, y_train)"
   ]
  },
  {
   "cell_type": "markdown",
   "id": "ef585fb9",
   "metadata": {},
   "source": [
    "### Accuracy"
   ]
  },
  {
   "cell_type": "code",
   "execution_count": 107,
   "id": "817c4a1f",
   "metadata": {},
   "outputs": [
    {
     "data": {
      "text/plain": [
       "0.8175653140633685"
      ]
     },
     "execution_count": 107,
     "metadata": {},
     "output_type": "execute_result"
    }
   ],
   "source": [
    "clf.score(X_train, y_train)"
   ]
  },
  {
   "cell_type": "code",
   "execution_count": 108,
   "id": "c2fe7cf4",
   "metadata": {},
   "outputs": [
    {
     "data": {
      "text/plain": [
       "0.8219949607232844"
      ]
     },
     "execution_count": 108,
     "metadata": {},
     "output_type": "execute_result"
    }
   ],
   "source": [
    "# Test with the Test Data Set\n",
    "clf.score(X_test, y_test)"
   ]
  },
  {
   "cell_type": "code",
   "execution_count": 138,
   "id": "f29cab3e",
   "metadata": {},
   "outputs": [],
   "source": [
    "y_predict = clf.predict(X_test)"
   ]
  },
  {
   "cell_type": "code",
   "execution_count": 114,
   "id": "cf4ee512",
   "metadata": {},
   "outputs": [
    {
     "data": {
      "image/png": "[encoded data removed]",
      "text/plain": [
       "<Figure size 640x480 with 2 Axes>"
      ]
     },
     "metadata": {},
     "output_type": "display_data"
    }
   ],
   "source": [
    "# Confusion matrix\n",
    "from sklearn.metrics import ConfusionMatrixDisplay\n",
    "cm = ConfusionMatrixDisplay.from_predictions(y_test, y_predict, display_labels=clf.classes_, \n",
    "                                             normalize='true', colorbar=True)"
   ]
  },
  {
   "cell_type": "markdown",
   "id": "27366006",
   "metadata": {},
   "source": [
    "### Visualisation of the Accuracy"
   ]
  },
  {
   "cell_type": "code",
   "execution_count": 115,
   "id": "4607cbd9",
   "metadata": {},
   "outputs": [
    {
     "data": {
      "text/plain": [
       "Text(0.5, 1.0, 'ROC Curve')"
      ]
     },
     "execution_count": 115,
     "metadata": {},
     "output_type": "execute_result"
    },
    {
     "data": {
      "image/png": "[encoded data removed]",
      "text/plain": [
       "<Figure size 640x480 with 1 Axes>"
      ]
     },
     "metadata": {},
     "output_type": "display_data"
    }
   ],
   "source": [
    "from sklearn.metrics import RocCurveDisplay\n",
    "display = RocCurveDisplay.from_estimator(clf, X_test, y_test, name=\"RF Model\")\n",
    "display.ax_.set_title(\"ROC Curve\")"
   ]
  },
  {
   "cell_type": "code",
   "execution_count": 119,
   "id": "04fefe84",
   "metadata": {},
   "outputs": [],
   "source": [
    "# Get the most important features for the claassification\n",
    "def feature_importance(columns, classifier):\n",
    "    features = list(zip(columns, classifier.feature_importances_))\n",
    "    sorted_features = sorted(features, key = lambda x: x[1]*-1)\n",
    "\n",
    "    keys = [value[0] for value in sorted_features]\n",
    "    values = [value[1] for value in sorted_features]\n",
    "    return pd.DataFrame(data={'feature': keys, 'importance': values})"
   ]
  },
  {
   "cell_type": "code",
   "execution_count": 120,
   "id": "202e0942",
   "metadata": {},
   "outputs": [
    {
     "data": {
      "text/html": [
       "<div>\n",
       "<style scoped>\n",
       "    .dataframe tbody tr th:only-of-type {\n",
       "        vertical-align: middle;\n",
       "    }\n",
       "\n",
       "    .dataframe tbody tr th {\n",
       "        vertical-align: top;\n",
       "    }\n",
       "\n",
       "    .dataframe thead th {\n",
       "        text-align: right;\n",
       "    }\n",
       "</style>\n",
       "<table border=\"1\" class=\"dataframe\">\n",
       "  <thead>\n",
       "    <tr style=\"text-align: right;\">\n",
       "      <th></th>\n",
       "      <th>feature</th>\n",
       "      <th>importance</th>\n",
       "    </tr>\n",
       "  </thead>\n",
       "  <tbody>\n",
       "    <tr>\n",
       "      <th>0</th>\n",
       "      <td>cardDegree</td>\n",
       "      <td>0.298836</td>\n",
       "    </tr>\n",
       "    <tr>\n",
       "      <th>1</th>\n",
       "      <td>p2pReceivedWeightedDegree</td>\n",
       "      <td>0.190206</td>\n",
       "    </tr>\n",
       "    <tr>\n",
       "      <th>2</th>\n",
       "      <td>p2pSentPageRank</td>\n",
       "      <td>0.181384</td>\n",
       "    </tr>\n",
       "    <tr>\n",
       "      <th>3</th>\n",
       "      <td>ipDegree</td>\n",
       "      <td>0.108104</td>\n",
       "    </tr>\n",
       "    <tr>\n",
       "      <th>4</th>\n",
       "      <td>communitySize</td>\n",
       "      <td>0.068553</td>\n",
       "    </tr>\n",
       "    <tr>\n",
       "      <th>5</th>\n",
       "      <td>deviceDegree</td>\n",
       "      <td>0.061462</td>\n",
       "    </tr>\n",
       "    <tr>\n",
       "      <th>6</th>\n",
       "      <td>partOfCommunity</td>\n",
       "      <td>0.052072</td>\n",
       "    </tr>\n",
       "    <tr>\n",
       "      <th>7</th>\n",
       "      <td>p2pSharedCardPageRank</td>\n",
       "      <td>0.039383</td>\n",
       "    </tr>\n",
       "  </tbody>\n",
       "</table>\n",
       "</div>"
      ],
      "text/plain": [
       "                     feature  importance\n",
       "0                 cardDegree    0.298836\n",
       "1  p2pReceivedWeightedDegree    0.190206\n",
       "2            p2pSentPageRank    0.181384\n",
       "3                   ipDegree    0.108104\n",
       "4              communitySize    0.068553\n",
       "5               deviceDegree    0.061462\n",
       "6            partOfCommunity    0.052072\n",
       "7      p2pSharedCardPageRank    0.039383"
      ]
     },
     "execution_count": 120,
     "metadata": {},
     "output_type": "execute_result"
    }
   ],
   "source": [
    "feature_importance(X_train.columns, clf)"
   ]
  },
  {
   "cell_type": "markdown",
   "id": "c008900e",
   "metadata": {},
   "source": [
    "Now we can investigate further the predictions in the Neo4j browser."
   ]
  },
  {
   "cell_type": "markdown",
   "id": "60c38d2d",
   "metadata": {},
   "source": [
    "### Predict Unlabeled Users"
   ]
  },
  {
   "cell_type": "code",
   "execution_count": null,
   "id": "019eee1c",
   "metadata": {},
   "outputs": [],
   "source": []
  },
  {
   "cell_type": "markdown",
   "id": "1b91c0a6",
   "metadata": {},
   "source": [
    "### Store the Model"
   ]
  },
  {
   "cell_type": "code",
   "execution_count": 122,
   "id": "33cf1400",
   "metadata": {},
   "outputs": [
    {
     "data": {
      "text/plain": [
       "['../data/clfmodel.pkl']"
      ]
     },
     "execution_count": 122,
     "metadata": {},
     "output_type": "execute_result"
    }
   ],
   "source": [
    "# from sklearn.externals import joblib\n",
    "import joblib\n",
    "joblib.dump(clf, '../data/clfmodel.pkl')"
   ]
  },
  {
   "cell_type": "markdown",
   "id": "357cd089",
   "metadata": {},
   "source": [
    "### Clean All"
   ]
  },
  {
   "cell_type": "code",
   "execution_count": null,
   "id": "223b66fd",
   "metadata": {},
   "outputs": [],
   "source": [
    "# delete created relationships\n",
    "gds.run_cypher('MATCH (:User)-[r:P2P_WITH_SHARED_CARD]->() DELETE r')\n",
    "gds.run_cypher('MATCH (:User)-[r:AGGREGATED_P2P]->() DELETE r')\n",
    "gds.run_cypher('MATCH (:User)-[r:AGGREGATED_P2P]->() DELETE r')"
   ]
  },
  {
   "cell_type": "code",
   "execution_count": null,
   "id": "ef6ac796",
   "metadata": {},
   "outputs": [],
   "source": [
    "# remove created node Labels\n",
    "gds.run_cypher('MATCH (u:FlaggedUser) REMOVE u:FlaggedUser')\n",
    "gds.run_cypher('MATCH (u:FraudRiskUser) REMOVE u:FraudRiskUser')\n",
    "gds.run_cypher('MATCH (u:FraudSharedId) REMOVE u:FraudSharedId')\n",
    "gds.run_cypher('MATCH (u:PredictedFraudRisk) REMOVE u:PredictedFraudRisk')"
   ]
  },
  {
   "cell_type": "code",
   "execution_count": null,
   "id": "ce49816c",
   "metadata": {},
   "outputs": [],
   "source": [
    "# remove created node properties\n",
    "gds.run_cypher('''\n",
    "    MATCH (n)\n",
    "    REMOVE n.wccId,\n",
    "        n.sharedIdsDegree,\n",
    "        n.predictedProbability,\n",
    "        n.partOfCommunity,\n",
    "        n.p2pSharedCardPageRank,\n",
    "        n.p2pSharedCardDegree,\n",
    "        n.p2pSentWeightedPageRank,\n",
    "        n.p2pSentPageRank,\n",
    "        n.p2pSentDegree,\n",
    "        n.p2pReversedSharedCardPageRank,\n",
    "        n.p2pReversedSharedCardDegree,\n",
    "        n.p2pReceivedWeightedPageRank,\n",
    "        n.p2pReceivedWeightedDegree,\n",
    "        n.p2pReceivedPageRank,\n",
    "        n.p2pReceivedDegree,\n",
    "        n.louvainCommunityId,\n",
    "        n.ipDegree,\n",
    "        n.fraudRiskRatio,\n",
    "        n.fraudRiskDegree,\n",
    "        n.fraudRisk,\n",
    "        n.flaggedRatio,\n",
    "        n.flaggedDegree,\n",
    "        n.deviceDegree,\n",
    "        n.degree,\n",
    "        n.communitySize,\n",
    "        n.cardDegree\n",
    "''')"
   ]
  },
  {
   "cell_type": "markdown",
   "id": "4f92388b",
   "metadata": {},
   "source": [
    "## Reference\n",
    "p2p: https://www.westernunion.com/blog/en/gb/what-is-a-p2p-payment-system-how-does-it-work/<br>\n",
    "data: https://drive.google.com/drive/folders/1LaNFObKnZb1Ty8T7kPLCYlXDUlHU7FGa <br>\n",
    "blog:https://neo4j.com/developer-blog/exploring-fraud-detection-neo4j-graph-data-science-summary/ <br>\n",
    "code examples: https://github.com/neo4j-product-examples/demo-fraud-detection-with-p2p <br>"
   ]
  },
  {
   "cell_type": "code",
   "execution_count": null,
   "id": "43725408",
   "metadata": {},
   "outputs": [],
   "source": []
  }
 ],
 "metadata": {
  "kernelspec": {
   "display_name": "Python 3 (ipykernel)",
   "language": "python",
   "name": "python3"
  },
  "language_info": {
   "codemirror_mode": {
    "name": "ipython",
    "version": 3
   },
   "file_extension": ".py",
   "mimetype": "text/x-python",
   "name": "python",
   "nbconvert_exporter": "python",
   "pygments_lexer": "ipython3",
   "version": "3.11.4"
  }
 },
 "nbformat": 4,
 "nbformat_minor": 5
}
